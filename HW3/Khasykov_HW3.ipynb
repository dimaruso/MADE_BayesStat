{
 "cells": [
  {
   "cell_type": "code",
   "execution_count": 1,
   "metadata": {},
   "outputs": [],
   "source": [
    "%load_ext autoreload\n",
    "%autoreload 2"
   ]
  },
  {
   "cell_type": "code",
   "execution_count": 2,
   "metadata": {},
   "outputs": [],
   "source": [
    "from datetime import datetime\n",
    "import os\n",
    "import pickle\n",
    "\n",
    "import numpy as np\n",
    "from scipy.special import logit, expit\n",
    "from sklearn.linear_model import LogisticRegression, Ridge\n",
    "\n",
    "import utils"
   ]
  },
  {
   "cell_type": "code",
   "execution_count": 3,
   "metadata": {},
   "outputs": [],
   "source": [
    "PATH_TO_FOLDER_WITH_ORIGIN_DATA = \"./chgk\"\n",
    "PATH_TO_FOLDER_WITH_FILTERED_TOURNAMENT_DATA = \"./tournaments_data_filtered\"\n",
    "PATH_TO_FOLDER_WITH_SPLITTED_DATA = \"./data_splitted_on_train_and_test\"\n",
    "\n",
    "TRAIN_YEAR = 2019\n",
    "TEST_YEAR = 2020"
   ]
  },
  {
   "cell_type": "code",
   "execution_count": null,
   "metadata": {},
   "outputs": [],
   "source": []
  },
  {
   "cell_type": "markdown",
   "metadata": {},
   "source": [
    "## Пункт 1: Загрузка и фильтрация данных"
   ]
  },
  {
   "cell_type": "code",
   "execution_count": 4,
   "metadata": {},
   "outputs": [],
   "source": [
    "FILTER_TOURNAMENTS_DATA = False\n",
    "SPLIT_DATA_ON_TRAIN_AND_TEST = False\n",
    "\n",
    "# Фильтрация данных о турнирах\n",
    "if FILTER_TOURNAMENTS_DATA:\n",
    "    with open(os.path.join(PATH_TO_FOLDER_WITH_ORIGIN_DATA, \"results.pkl\"), \"rb\") as f:\n",
    "        results = pickle.load(f)\n",
    "    with open(os.path.join(PATH_TO_FOLDER_WITH_ORIGIN_DATA, \"tournaments.pkl\"), \"rb\") as f:\n",
    "        tournaments = pickle.load(f)\n",
    "        \n",
    "    results, tournaments = utils.filter_tournaments_data(results, tournaments, years=(TRAIN_YEAR, TEST_YEAR))\n",
    "    \n",
    "    with open(os.path.join(PATH_TO_FOLDER_WITH_SPLITTED_DATA, \"results.pkl\"), \"wb\") as f:\n",
    "        pickle.dump(results, f)\n",
    "    with open(os.path.join(PATH_TO_FOLDER_WITH_SPLITTED_DATA, \"tournaments.pkl\"), \"wb\") as f:\n",
    "        pickle.dump(tournaments, f)"
   ]
  },
  {
   "cell_type": "code",
   "execution_count": 5,
   "metadata": {},
   "outputs": [],
   "source": [
    "# Разбивка данных на трейн и тест\n",
    "if SPLIT_DATA_ON_TRAIN_AND_TEST:\n",
    "    with open(os.path.join(PATH_TO_FOLDER_WITH_FILTERED_TOURNAMENT_DATA, \"results.pkl\"), \"rb\") as f:\n",
    "        results = pickle.load(f)\n",
    "    with open(os.path.join(PATH_TO_FOLDER_WITH_FILTERED_TOURNAMENT_DATA, \"tournaments.pkl\"), \"rb\") as f:\n",
    "        tournaments = pickle.load(f)\n",
    "    \n",
    "    train_data, test_data = utils.split_data_on_train_and_test(results, tournaments, TRAIN_YEAR, TEST_YEAR)\n",
    "    \n",
    "    with open(os.path.join(PATH_TO_FOLDER_WITH_SPLITTED_DATA, \"train_data.pkl\"), \"wb\") as f:\n",
    "        pickle.dump(train_data, f)\n",
    "    with open(os.path.join(PATH_TO_FOLDER_WITH_SPLITTED_DATA, \"test_data.pkl\"), \"wb\") as f:\n",
    "        pickle.dump(test_data, f)"
   ]
  },
  {
   "cell_type": "code",
   "execution_count": 6,
   "metadata": {},
   "outputs": [],
   "source": [
    "# Чтение подготовленных данных\n",
    "with open(os.path.join(PATH_TO_FOLDER_WITH_SPLITTED_DATA, \"train_data.pkl\"), \"rb\") as f:\n",
    "    train_data = pickle.load(f)\n",
    "with open(os.path.join(PATH_TO_FOLDER_WITH_SPLITTED_DATA, \"test_data.pkl\"), \"rb\") as f:\n",
    "    test_data = pickle.load(f)\n",
    "with open(os.path.join(PATH_TO_FOLDER_WITH_ORIGIN_DATA, \"players.pkl\"), \"rb\") as f:\n",
    "    players = pickle.load(f)"
   ]
  },
  {
   "cell_type": "code",
   "execution_count": null,
   "metadata": {},
   "outputs": [],
   "source": []
  },
  {
   "cell_type": "markdown",
   "metadata": {},
   "source": [
    "## Пункт 2: Baseline"
   ]
  },
  {
   "cell_type": "markdown",
   "metadata": {},
   "source": [
    "**Введем обозначения**:\n",
    "\n",
    "Пусть имеется множество турниров (*championships*) $\\mathbf{C} = \\{c_1, \\ldots, c_{|\\mathbf{C}|} \\}$. В турнире $c \\in \\mathbf{C}$ принимают участие команды $\\mathbf{T}^{(c)} = \\{t^{(c)}_1, \\ldots, t^{(c)}_{|\\mathbf{T}^{(c)}|} \\},$ где произвольная команда $t$ состоит из игроков $\\mathbf{P}_t = \\{p_1, \\ldots, c_{|\\mathbf{P}_t|} \\}$. На турнире команды отвечают на вопросы $\\mathbf{Q}^{(c)}$."
   ]
  },
  {
   "cell_type": "markdown",
   "metadata": {},
   "source": [
    "**Описание базовой модели**:\n",
    "\n",
    "Предположим, что если команда правильно ответила на вопрос, то ответил и каждый игрок команды. В рамках этого предположения построим модель логистической регрессии оценки вероятности события правильного ответа игроком на поставленный вопрос."
   ]
  },
  {
   "cell_type": "markdown",
   "metadata": {},
   "source": [
    "Пусть $i \\in \\bigcup_{c \\in \\mathbf{C}} \\bigcup_{t \\in \\mathbf{T}^{(c)}} \\mathbf{P}_t $ --- игрок, $s_i$ --- оценка его скилла отвечать на вопросы ЧГК, $q \\in \\mathbf{Q}^{(c)}$ --- вопрос, $d_q$ --- оценка сложности (*difficulty*) этого вопроса, $\\xi_{iq}$ --- бинарный флаг события, в котором игрок $i$ ответил на вопрос $q$. Тогда базовая модель описывается следующим образом:"
   ]
  },
  {
   "cell_type": "markdown",
   "metadata": {},
   "source": [
    "$$ \\mathbf{P} \\left[ \\xi_{iq}=1 | s_i, d_q \\right] = \\sigma \\left( \\alpha + s_i + d_q \\right), $$"
   ]
  },
  {
   "cell_type": "markdown",
   "metadata": {},
   "source": [
    "где $\\sigma$ --- сигмоида, $\\alpha$ --- константа."
   ]
  },
  {
   "cell_type": "markdown",
   "metadata": {},
   "source": [
    "При условии использования такой модели на инференсе для наблюдений тестовой выборки возникнет две проблемы:\n",
    "\n",
    "1. Прогноз для игроков, отсутствующих в обучающей выборке.\n",
    "    \n",
    "    Для этого введем специальный id игрока, равный -1, и заменим на него id таких игроков в обучающей выборке, которые сыграли относительно мало турниров/вопросов и id игроков из тестовой выборки, отсутствующих в обучающей выборке. Таким образом мы избавимся от переобучения на наблюдениях, соответствующих \"редким\" игрокам, а также это позволит производить инференс для наблюдений с новыми игроками.\n",
    "    \n",
    "    \n",
    "2. Все вопросы в тестовой выборке отсутствуют в обучающей выборке.\n",
    "        \n",
    "    Так как инференс на тестовой выборке производится для оценки качества рейтинг-системы, в которой мы, по сути, сравниваем команды в рамках турнира по совокупной силе ее участников, то для тестовой выборки не требуются параметры, соответствующие вопросам. Соответственно, не будем вводить никакую информацию о вопросах в тестовую выборку."
   ]
  },
  {
   "cell_type": "code",
   "execution_count": 7,
   "metadata": {},
   "outputs": [
    {
     "name": "stdout",
     "output_type": "stream",
     "text": [
      "CPU times: user 2min 1s, sys: 45 ms, total: 2min 1s\n",
      "Wall time: 2min 1s\n"
     ]
    }
   ],
   "source": [
    "%%time\n",
    "\n",
    "utils.replace_rare_players_ids_inplace(train_data, q_min=200, replace_id=-1)\n",
    "utils.replace_unseen_on_train_players_inplace(train_data, test_data, replace_id=-1)"
   ]
  },
  {
   "cell_type": "markdown",
   "metadata": {},
   "source": [
    "Конвертация данных в формат разреженных матриц для последующей работы с моделями из *sklearn*."
   ]
  },
  {
   "cell_type": "code",
   "execution_count": 8,
   "metadata": {},
   "outputs": [],
   "source": [
    "mapper = utils.get_feature_mapper(train_data)\n",
    "(\n",
    "    X_train, \n",
    "    y_train, \n",
    "    tournament_ids_train,\n",
    "    team_ids_train,\n",
    "    player_ids_train,\n",
    "    tournament_question_nums_train,\n",
    ") = utils.get_sparse_data_for_sklearn_api(train_data, mapper, regime=\"train\")\n",
    "\n",
    "(\n",
    "    X_test, \n",
    "    y_test, \n",
    "    tournament_ids_test,\n",
    "    team_ids_test,\n",
    "    player_ids_test,\n",
    "    tournament_question_nums_test,\n",
    ") = utils.get_sparse_data_for_sklearn_api(test_data, mapper, regime=\"test\")"
   ]
  },
  {
   "cell_type": "code",
   "execution_count": 9,
   "metadata": {},
   "outputs": [
    {
     "name": "stdout",
     "output_type": "stream",
     "text": [
      "CPU times: user 5min 4s, sys: 248 ms, total: 5min 4s\n",
      "Wall time: 5min 4s\n"
     ]
    },
    {
     "data": {
      "text/plain": [
       "LogisticRegression(C=0.1, class_weight=None, dual=False, fit_intercept=True,\n",
       "                   intercept_scaling=1, l1_ratio=None, max_iter=100,\n",
       "                   multi_class='auto', n_jobs=-1, penalty='l2',\n",
       "                   random_state=None, solver='saga', tol=0.0001, verbose=0,\n",
       "                   warm_start=False)"
      ]
     },
     "execution_count": 9,
     "metadata": {},
     "output_type": "execute_result"
    }
   ],
   "source": [
    "%%time\n",
    "\n",
    "reg_param_C = 0.1\n",
    "\n",
    "logistic = LogisticRegression(penalty=\"l2\", C=reg_param_C, solver=\"saga\", tol=0.0001, n_jobs=-1)\n",
    "logistic.fit(X_train, y_train)"
   ]
  },
  {
   "cell_type": "code",
   "execution_count": 10,
   "metadata": {},
   "outputs": [],
   "source": [
    "proba_to_answer_train = logistic.predict_proba(X_train)[:, 1]\n",
    "proba_to_answer_test = logistic.predict_proba(X_test)[:, 1]"
   ]
  },
  {
   "cell_type": "code",
   "execution_count": null,
   "metadata": {},
   "outputs": [],
   "source": []
  },
  {
   "cell_type": "markdown",
   "metadata": {},
   "source": [
    "## Пункт 3: Оценка качества рейтинг-системы"
   ]
  },
  {
   "cell_type": "markdown",
   "metadata": {},
   "source": [
    "Как было указано в предыдущем пункте, для тестирования качества рейтинг-системы нам необходимо отранжировать команды в рамках турниров по совокупной силе участников команды. Для этой цели подойдет ранжирование команд по оценке вероятности события, что команда ответит правильно на абстрактный вопрос, т.е. правильно ответит хотя бы один член команды:"
   ]
  },
  {
   "cell_type": "markdown",
   "metadata": {},
   "source": [
    "$$ \\mathbf{P} \\left[ \\xi_{t}=1 \\right] = 1 - \\prod_{i \\in t} \\left[ 1 - \\mathbf{P} \\left( \\xi_{iq}=1 | s_i \\right) \\right] = 1 - \\prod_{i \\in t} \\left[ 1 - \\sigma \\left( \\alpha + s_i \\right) \\right] .$$"
   ]
  },
  {
   "cell_type": "code",
   "execution_count": 11,
   "metadata": {},
   "outputs": [
    {
     "name": "stdout",
     "output_type": "stream",
     "text": [
      "Оценка качества базовой модели:\n",
      "\n",
      "корреляция Кендалла: 0.6029495740044224\n",
      "корреляция Спирмена: 0.7572136275463011\n"
     ]
    }
   ],
   "source": [
    "true_positions = utils.get_true_positions(test_data)\n",
    "predicted_positions = utils.get_predicted_positions(\n",
    "    tournament_ids_test, team_ids_test, proba_to_answer_test\n",
    ")\n",
    "\n",
    "kendall_corr, spearman_corr = utils.get_kendall_and_spearman_corr_values(\n",
    "    true_positions, predicted_positions\n",
    ")\n",
    "\n",
    "print(\n",
    "    f\"Оценка качества базовой модели:\\n\\n\"\n",
    "    f\"корреляция Кендалла: {kendall_corr}\\n\"\n",
    "    f\"корреляция Спирмена: {spearman_corr}\"\n",
    ")"
   ]
  },
  {
   "cell_type": "code",
   "execution_count": null,
   "metadata": {},
   "outputs": [],
   "source": []
  },
  {
   "cell_type": "markdown",
   "metadata": {},
   "source": [
    "## Пункт 4: EM-алгоритм"
   ]
  },
  {
   "cell_type": "markdown",
   "metadata": {},
   "source": [
    "В базовой модели было сделано предположение о том, что если команда правильно ответила на вопрос, то с вопросом также справился и каждый член команды. Скорее всего, в реальной жизни так не происходит, и для улучшения качества базовой модели попробуем ослабить введенное предположение. Теперь предположим, что в случае, когда команда не ответила на вопрос, то ни один участник не смог правильно ответить, а когда команда справилась --- справился хотя бы один игрок."
   ]
  },
  {
   "cell_type": "markdown",
   "metadata": {},
   "source": [
    "Ситуация похожа на случай с presence-only выборкой для оценки вероятности обитания сусликов в областях, где не наблюдался факт обнаружения данных животных. Здесь также воспользуемся EM-схемой, где будем моделировать ненаблюдаемое значение скрытой переменной, определяющей событие, что игрок правильно или неправильно ответил на вопрос при наличии информации о том, как с вопросом справилась команда."
   ]
  },
  {
   "cell_type": "markdown",
   "metadata": {},
   "source": [
    "Введем эту бинарную скрытую переменную $z_{iq}$ и рассмотрим ее вероятноcтные свойства:"
   ]
  },
  {
   "cell_type": "markdown",
   "metadata": {},
   "source": [
    "$ \\mathbf{P} \\left( z_{iq}=1 | \\xi_{tq}=0 \\right) = 0 $,"
   ]
  },
  {
   "cell_type": "markdown",
   "metadata": {},
   "source": [
    "$$ \\mathbf{P} \\left( z_{iq}=1 | \\xi_{tq}=1 \\right) = \\displaystyle \\frac{\\mathbf{P} \\left( \\xi_{tq}=1 | z_{iq}=1 \\right) \\cdot \\mathbf{P} \\left( z_{iq}=1 \\right)}{\\mathbf{P} \\left( \\xi_{tq}=1 \\right)} = \\frac{1 \\cdot \\mathbf{P} \\left( z_{iq}=1 \\right)}{\\mathbf{P} \\left( \\xi_{tq}=1 \\right)} = \\frac{\\mathbf{P} \\left( z_{iq}=1 \\right)}{1 - \\mathbf{P} \\left( \\xi_{tq}=0 \\right)} = \\frac{\\mathbf{P} \\left( \\xi_{iq}=1 \\right)}{1 - \\prod_{j \\in t} \\left[ 1 - \\mathbf{P} \\left( \\xi_{jq} = 0 \\right) \\right]}. $$"
   ]
  },
  {
   "cell_type": "markdown",
   "metadata": {},
   "source": [
    "Отсюда математическое ожидание скрытой переменной:\n",
    "\n",
    "$$ \\mathbf{E} \\left[ z_{iq} \\right] =\n",
    "\\begin{equation}\n",
    "    \\left\\{ \n",
    "      \\begin{aligned}\n",
    "        &0,& \\xi_{tq}=0,\\\\\n",
    "        &\\mathbf{P} \\left( z_{iq}=1 | \\xi_{tq}=1 \\right),& \\xi_{tq}=1.\\\\\n",
    "      \\end{aligned}\n",
    "     \\right.\n",
    "\\end{equation} $$"
   ]
  },
  {
   "cell_type": "markdown",
   "metadata": {},
   "source": [
    "**EM-схема**:\n",
    "\n",
    "**_E-шаг_**:\n",
    "\n",
    "Оцениваем $\\mathbf{E} \\left[ z_{iq} \\right]$ при условии известных параметров скиллов игроков и сложности вопросов.\n",
    "\n",
    "**_M-шаг_**:\n",
    "\n",
    "Оцениваем параметры скиллов игроков и сложности вопросов при условии известных ожидаемых значений скрытых переменных:"
   ]
  },
  {
   "cell_type": "markdown",
   "metadata": {},
   "source": [
    "$$ \\mathbf{E} \\left[ z_{iq}=1 | s_i, d_q \\right] = \\sigma \\left( \\alpha + s_i + d_q \\right). $$"
   ]
  },
  {
   "cell_type": "code",
   "execution_count": 12,
   "metadata": {},
   "outputs": [
    {
     "name": "stdout",
     "output_type": "stream",
     "text": [
      "EM-шаг 1:\n",
      "корреляция Кендалла: 0.6233189591058687\n",
      "корреляция Спирмена: 0.7755160885489236\n",
      "\n",
      "\n",
      "EM-шаг 2:\n",
      "корреляция Кендалла: 0.6366036562315112\n",
      "корреляция Спирмена: 0.7899447178534998\n",
      "\n",
      "\n",
      "EM-шаг 3:\n",
      "корреляция Кендалла: 0.6359678294586729\n",
      "корреляция Спирмена: 0.7897426532677517\n",
      "\n",
      "\n",
      "EM-шаг 4:\n",
      "корреляция Кендалла: 0.6365040305625046\n",
      "корреляция Спирмена: 0.790223650031911\n",
      "\n",
      "\n",
      "EM-шаг 5:\n",
      "корреляция Кендалла: 0.6366859474217081\n",
      "корреляция Спирмена: 0.7900781591556572\n",
      "\n",
      "\n"
     ]
    }
   ],
   "source": [
    "n_em_steps = 5\n",
    "\n",
    "for step in range(n_em_steps):\n",
    "    # E-шаг\n",
    "    z_expectation = utils.estimate_latent_vars_expectaion(\n",
    "        tournament_ids_train,\n",
    "        team_ids_train,\n",
    "        player_ids_train,\n",
    "        tournament_question_nums_train,\n",
    "        y_train,\n",
    "        proba_to_answer_train,\n",
    "    )\n",
    "    \n",
    "    # M-шаг\n",
    "    linear = Ridge(alpha=1/2/reg_param_C, solver=\"auto\", tol=0.0001)\n",
    "    linear.fit(X_train, logit(z_expectation))\n",
    "    proba_to_answer_train = expit(linear.predict(X_train))\n",
    "    proba_to_answer_test = expit(linear.predict(X_test))\n",
    "    \n",
    "    # оценка качества\n",
    "    predicted_positions = utils.get_predicted_positions(\n",
    "        tournament_ids_test, team_ids_test, proba_to_answer_test\n",
    "    )\n",
    "    kendall_corr, spearman_corr = utils.get_kendall_and_spearman_corr_values(\n",
    "        true_positions, predicted_positions\n",
    "    )\n",
    "\n",
    "    print(\n",
    "        f\"EM-шаг {step + 1}:\\n\"\n",
    "        f\"корреляция Кендалла: {kendall_corr}\\n\"\n",
    "        f\"корреляция Спирмена: {spearman_corr}\\n\\n\"\n",
    "    )\n",
    "    "
   ]
  },
  {
   "cell_type": "markdown",
   "metadata": {},
   "source": [
    "Алгоритм довольно быстро сошелся, в результате наблюдается незначительное увеличение метрик: корреляции Кендалла и Спирмена выросли примерно на 3-4%."
   ]
  },
  {
   "cell_type": "code",
   "execution_count": null,
   "metadata": {},
   "outputs": [],
   "source": []
  },
  {
   "cell_type": "markdown",
   "metadata": {},
   "source": [
    "## Пункт 5: Рейтинг-лист турниров"
   ]
  },
  {
   "cell_type": "markdown",
   "metadata": {},
   "source": [
    "Оценим списки чемпионатов с самыми сложными/легкими вопросами. Для этого отранжируем чемпионаты по средней оценке сложности вопросов, заданных в рамках чемпионата."
   ]
  },
  {
   "cell_type": "code",
   "execution_count": 13,
   "metadata": {},
   "outputs": [],
   "source": [
    "(\n",
    "    most_difficult_tournaments_names, \n",
    "    least_difficult_tournaments_names\n",
    ") = utils.get_top_n_most_and_least_difficult_tournament_names(linear, mapper, train_data, n=10) "
   ]
  },
  {
   "cell_type": "code",
   "execution_count": 14,
   "metadata": {},
   "outputs": [
    {
     "name": "stdout",
     "output_type": "stream",
     "text": [
      "Чемпионаты с наиболее сложными вопросами:\n",
      "\n",
      "\tЧемпионат Санкт-Петербурга. Первая лига\n",
      "\tВоображаемый музей\n",
      "\tУгрюмый Ёрш\n",
      "\tЧемпионат России\n",
      "\tЧемпионат Мира. Этап 2. Группа В\n",
      "\tПервенство правого полушария\n",
      "\tЗаписки охотника\n",
      "\tУскользающая сова\n",
      "\tСинхрон высшей лиги Москвы\n",
      "\tЗнание – Сила VI\n",
      "\n",
      "\n",
      "Чемпионаты с наиболее легкими вопросами:\n",
      "\n",
      "\t(а)Синхрон-lite. Лига старта. Эпизод V\n",
      "\tМежфакультетский кубок МГУ. Отбор №4\n",
      "\t(а)Синхрон-lite. Лига старта. Эпизод IX\n",
      "\t(а)Синхрон-lite. Лига старта. Эпизод III\n",
      "\tОткрытый чемпионат Белгородской области\n",
      "\t(а)Синхрон-lite. Лига старта. Эпизод VII\n",
      "\tМежфакультетский кубок МГУ. Отбор №3\n",
      "\tСтуденческий чемпионат Калининградской области\n",
      "\tСинхрон Лиги Разума\n",
      "\t(а)Синхрон-lite. Лига старта. Эпизод X\n"
     ]
    }
   ],
   "source": [
    "print(\"Чемпионаты с наиболее сложными вопросами:\\n\\n\\t\", \"\\n\\t\".join(most_difficult_tournaments_names), sep=\"\")\n",
    "print(\"\\n\")\n",
    "print(\"Чемпионаты с наиболее легкими вопросами:\\n\\n\\t\", \"\\n\\t\".join(least_difficult_tournaments_names), sep=\"\")"
   ]
  },
  {
   "cell_type": "markdown",
   "metadata": {},
   "source": [
    "Результаты получились довольно логичными. В топе \"сложных\" турниров находятся чемпионаты России, мира, правого полушария, в \"противоположном\" списке --- студенческие чемпионаты и Лига старта (видимо, чемпионаты для новичков, гугл не помог их найти описание)."
   ]
  },
  {
   "cell_type": "code",
   "execution_count": null,
   "metadata": {},
   "outputs": [],
   "source": []
  }
 ],
 "metadata": {
  "kernelspec": {
   "display_name": "Python 3",
   "language": "python",
   "name": "python3"
  },
  "language_info": {
   "codemirror_mode": {
    "name": "ipython",
    "version": 3
   },
   "file_extension": ".py",
   "mimetype": "text/x-python",
   "name": "python",
   "nbconvert_exporter": "python",
   "pygments_lexer": "ipython3",
   "version": "3.7.6"
  }
 },
 "nbformat": 4,
 "nbformat_minor": 4
}
